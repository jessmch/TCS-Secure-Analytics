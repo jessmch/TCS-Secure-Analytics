{
 "cells": [
  {
   "cell_type": "code",
   "execution_count": 1,
   "metadata": {},
   "outputs": [
    {
     "ename": "SyntaxError",
     "evalue": "(unicode error) 'unicodeescape' codec can't decode bytes in position 2-3: truncated \\UXXXXXXXX escape (3777141122.py, line 2)",
     "output_type": "error",
     "traceback": [
      "\u001b[1;36m  Cell \u001b[1;32mIn[1], line 2\u001b[1;36m\u001b[0m\n\u001b[1;33m    loader = CSVLoader(file_path='C:\\Users\\huule\\Desktop\\School\\cs180\\\\archive\\\\fraudTrain.csv')\u001b[0m\n\u001b[1;37m                                                                                               ^\u001b[0m\n\u001b[1;31mSyntaxError\u001b[0m\u001b[1;31m:\u001b[0m (unicode error) 'unicodeescape' codec can't decode bytes in position 2-3: truncated \\UXXXXXXXX escape\n"
     ]
    }
   ],
   "source": [
    "from langchain.document_loaders.csv_loader import CSVLoader\n",
    "loader = CSVLoader(file_path='C:\\\\Users\\\\huule\\\\Desktop\\\\School\\\\cs180\\\\archive\\\\fraudTrain.csv')\n",
    "data = loader.load()"
   ]
  },
  {
   "cell_type": "code",
   "execution_count": 15,
   "metadata": {},
   "outputs": [],
   "source": [
    "from langchain_community.embeddings import OllamaEmbeddings\n",
    "embeddings = OllamaEmbeddings()"
   ]
  },
  {
   "cell_type": "code",
   "execution_count": 16,
   "metadata": {},
   "outputs": [],
   "source": [
    "from langchain_community.vectorstores import FAISS\n",
    "from langchain_text_splitters import RecursiveCharacterTextSplitter\n",
    "\n",
    "text_splitter = RecursiveCharacterTextSplitter()\n",
    "documents = text_splitter.split_documents(data)\n"
   ]
  },
  {
   "cell_type": "code",
   "execution_count": 17,
   "metadata": {},
   "outputs": [],
   "source": [
    "vector = FAISS.from_documents(documents, embeddings)"
   ]
  },
  {
   "cell_type": "code",
   "execution_count": 10,
   "metadata": {},
   "outputs": [
    {
     "name": "stdout",
     "output_type": "stream",
     "text": [
      "[Document(page_content=': 13\\ntrans_date_trans_time: 2019-01-01 00:07:27\\ncc_num: 5559857416065248\\nmerchant: fraud_Kiehn Inc\\ncategory: grocery_pos\\namt: 96.29\\nfirst: Jack\\nlast: Hill\\ngender: M\\nstreet: 5916 Susan Bridge Apt. 939\\ncity: Grenada\\nstate: CA\\nzip: 96038\\nlat: 41.6125\\nlong: -122.5258\\ncity_pop: 589\\njob: Systems analyst\\ndob: 1945-12-21\\ntrans_num: 413636e759663f264aae1819a4d4f231\\nunix_time: 1325376447\\nmerch_lat: 41.65752\\nmerch_long: -122.230347\\nis_fraud: 0', metadata={'source': 'C:/Users/huule/Desktop/School/cs180/archive/fraudShrunk.csv', 'row': 13}), Document(page_content=': 19\\ntrans_date_trans_time: 2019-01-01 00:12:34\\ncc_num: 4956828990005111019\\nmerchant: fraud_Schultz, Simonis and Little\\ncategory: grocery_pos\\namt: 44.71\\nfirst: Kenneth\\nlast: Robinson\\ngender: M\\nstreet: 269 Sanchez Rapids\\ncity: Elizabeth\\nstate: NJ\\nzip: 7208\\nlat: 40.6747\\nlong: -74.2239\\ncity_pop: 124967\\njob: Operational researcher\\ndob: 1980-12-21\\ntrans_num: 09eff9c806365e2a6be12c1bbab3d70e\\nunix_time: 1325376754\\nmerch_lat: 40.079588\\nmerch_long: -74.84808699999999\\nis_fraud: 0', metadata={'source': 'C:/Users/huule/Desktop/School/cs180/archive/fraudShrunk.csv', 'row': 19}), Document(page_content=': 1\\ntrans_date_trans_time: 2019-01-01 00:00:44\\ncc_num: 630423337322\\nmerchant: fraud_Heller, Gutmann and Zieme\\ncategory: grocery_pos\\namt: 107.23\\nfirst: Stephanie\\nlast: Gill\\ngender: F\\nstreet: 43039 Riley Greens Suite 393\\ncity: Orient\\nstate: WA\\nzip: 99160\\nlat: 48.8878\\nlong: -118.2105\\ncity_pop: 149\\njob: Special educational needs teacher\\ndob: 1978-06-21\\ntrans_num: 1f76529f8574734946361c461b024d99\\nunix_time: 1325376044\\nmerch_lat: 49.159046999999994\\nmerch_long: -118.186462\\nis_fraud: 0', metadata={'source': 'C:/Users/huule/Desktop/School/cs180/archive/fraudShrunk.csv', 'row': 1}), Document(page_content=': 35\\ntrans_date_trans_time: 2019-01-01 00:25:46\\ncc_num: 349612764943496\\nmerchant: fraud_Hudson-Ratke\\ncategory: grocery_pos\\namt: 99.0\\nfirst: Xavier\\nlast: Beltran\\ngender: M\\nstreet: 61107 Edwards Dam Apt. 463\\ncity: Big Creek\\nstate: KY\\nzip: 40914\\nlat: 37.1046\\nlong: -83.5706\\ncity_pop: 467\\njob: Psychologist, forensic\\ndob: 1984-06-04\\ntrans_num: 7e2f9596cb3a3595ece15611ee338e5c\\nunix_time: 1325377546\\nmerch_lat: 36.823545\\nmerch_long: -83.90104000000001\\nis_fraud: 0', metadata={'source': 'C:/Users/huule/Desktop/School/cs180/archive/fraudShrunk.csv', 'row': 35})]\n"
     ]
    }
   ],
   "source": [
    "results = vector.similarity_search('Are there any frauds?')\n",
    "print(results)"
   ]
  },
  {
   "cell_type": "code",
   "execution_count": 11,
   "metadata": {},
   "outputs": [],
   "source": [
    "from langchain_community.llms import Ollama\n",
    "llm = Ollama(model=\"llama2\")"
   ]
  },
  {
   "cell_type": "code",
   "execution_count": 12,
   "metadata": {},
   "outputs": [],
   "source": [
    "from langchain.chains import ConversationalRetrievalChain \n",
    "chain = ConversationalRetrievalChain.from_llm(llm=llm, \n",
    "                                              retriever=vector.as_retriever()) "
   ]
  },
  {
   "cell_type": "code",
   "execution_count": 13,
   "metadata": {},
   "outputs": [
    {
     "name": "stdout",
     "output_type": "stream",
     "text": [
      "{'question': 'Are there any frauds?', 'chat_history': [], 'answer': \"I don't know the answer to your question. I can't determine if there are any frauds based on the information provided in the context you provided. The context only provides information about various transactions, including the date, time, merchant, category, amount, and other details. It doesn't provide any indication of whether a particular transaction is fraudulent or not. To determine if there are any frauds, you would need to analyze the transactions more thoroughly, considering factors such as the location, amount, and consistency of the transactions, as well as any other relevant information.\"}\n"
     ]
    }
   ],
   "source": [
    "query = \"Are there any frauds?\" \n",
    "response = chain.invoke({\"question\": query, \"chat_history\": []}) \n",
    "print(response) "
   ]
  }
 ],
 "metadata": {
  "kernelspec": {
   "display_name": "Python 3",
   "language": "python",
   "name": "python3"
  },
  "language_info": {
   "codemirror_mode": {
    "name": "ipython",
    "version": 3
   },
   "file_extension": ".py",
   "mimetype": "text/x-python",
   "name": "python",
   "nbconvert_exporter": "python",
   "pygments_lexer": "ipython3",
   "version": "3.11.3"
  }
 },
 "nbformat": 4,
 "nbformat_minor": 2
}
